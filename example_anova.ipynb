{
 "cells": [
  {
   "cell_type": "markdown",
   "metadata": {},
   "source": [
    "# Example Log Blocking\n",
    "Constant thickness and analysis of variance log blocking algorithms are illustrated with an example gamma ray curve from the [teapot](https://wiki.seg.org/wiki/Teapot_dome_3D_survey) dataset.\n",
    "\n",
    "First, import the required libraries and local classes/functions. Then, create two 1D numpy arrays from the provided csv."
   ]
  },
  {
   "cell_type": "code",
   "execution_count": 1,
   "metadata": {},
   "outputs": [
    {
     "name": "stdout",
     "output_type": "stream",
     "text": [
      "number of zones in original curve:  3846\n"
     ]
    }
   ],
   "source": [
    "# standard libs\n",
    "import os\n",
    "\n",
    "# 3rd party\n",
    "import numpy\n",
    "import pandas\n",
    "import matplotlib\n",
    "import matplotlib.pyplot as plt\n",
    "\n",
    "# local\n",
    "from anova_log_blocking import anova_zoning, number_of_zones\n",
    "from log_curve_visualization import curve_plot\n",
    "\n",
    "df = pandas.read_csv('data/490252319500_GammaRay.csv')\n",
    "df = df.set_index('DEPT')\n",
    "\n",
    "depth = df.index.to_numpy()\n",
    "curve = df['GR'].to_numpy()\n",
    "print(\"number of zones in original curve: \", number_of_zones(arr=curve))"
   ]
  },
  {
   "cell_type": "markdown",
   "metadata": {},
   "source": [
    "Constant thickness blocking is the simplest and most naive log blocking algorithm as it does not use any information of the curve values. It simply blocks a constant number of samples for the entire curve. \n",
    "\n",
    "An example function is given below. \n",
    "\n",
    "> In production, the argument would likely be thickness in measured units which is then converted to number of samples or break points determined using a nearest algorithm."
   ]
  },
  {
   "cell_type": "code",
   "execution_count": 4,
   "metadata": {},
   "outputs": [
    {
     "name": "stdout",
     "output_type": "stream",
     "text": [
      "number of zones with 3 samples window: 1284\n",
      "mean squared error with 3 samples window: 111.43296641581102\n"
     ]
    }
   ],
   "source": [
    "def constant_thickness_zoning(input_array:numpy.ndarray, nsamples:int):\n",
    "    output_array = numpy.zeros_like(input_array)\n",
    "    \n",
    "    for n in range(0,len(input_array),nsamples):\n",
    "        output_array[n:n+nsamples] = numpy.median(input_array[n:n+nsamples])\n",
    "    # handle the last samples\n",
    "    if n+nsamples < len(input_array):\n",
    "        output_array[n+nsamples:] = numpy.median(input_array[n+nsamples:])\n",
    "    return output_array\n",
    "\n",
    "curve_thick = constant_thickness_zoning(input_array=curve, nsamples=3)\n",
    "print(f'number of zones with {3} samples window: {number_of_zones(arr=curve_thick)}')\n",
    "print(f'mean squared error with {3} samples window: {numpy.mean(numpy.square(curve - curve_thick))}')"
   ]
  },
  {
   "cell_type": "markdown",
   "metadata": {},
   "source": [
    "As expected, the number of zones has decreased, but are the zones representative of geologic units?"
   ]
  },
  {
   "cell_type": "code",
   "execution_count": 12,
   "metadata": {},
   "outputs": [
    {
     "ename": "IndexError",
     "evalue": "too many indices for array: array is 1-dimensional, but 2 were indexed",
     "output_type": "error",
     "traceback": [
      "\u001b[0;31m---------------------------------------------------------------------------\u001b[0m",
      "\u001b[0;31mIndexError\u001b[0m                                Traceback (most recent call last)",
      "\u001b[1;32m/mnt/storage3/skylayer3/workspaces/development/anova_well_curve_blocking/example_anova.ipynb Cell 6'\u001b[0m in \u001b[0;36m<cell line: 5>\u001b[0;34m()\u001b[0m\n\u001b[1;32m      <a href='vscode-notebook-cell:/mnt/storage3/skylayer3/workspaces/development/anova_well_curve_blocking/example_anova.ipynb#ch0000006?line=2'>3</a>\u001b[0m fig, axs \u001b[39m=\u001b[39m plt\u001b[39m.\u001b[39msubplots(ncols\u001b[39m=\u001b[39m\u001b[39m2\u001b[39m, nrows\u001b[39m=\u001b[39m\u001b[39m1\u001b[39m, constrained_layout\u001b[39m=\u001b[39m\u001b[39mTrue\u001b[39;00m, gridspec_kw\u001b[39m=\u001b[39mgs_kw)  \u001b[39m# figsize=(16.5,9.5)\u001b[39;00m\n\u001b[1;32m      <a href='vscode-notebook-cell:/mnt/storage3/skylayer3/workspaces/development/anova_well_curve_blocking/example_anova.ipynb#ch0000006?line=3'>4</a>\u001b[0m fig\u001b[39m.\u001b[39msuptitle(\u001b[39m'\u001b[39m\u001b[39mconstant thickness log blocking\u001b[39m\u001b[39m'\u001b[39m)\n\u001b[0;32m----> <a href='vscode-notebook-cell:/mnt/storage3/skylayer3/workspaces/development/anova_well_curve_blocking/example_anova.ipynb#ch0000006?line=4'>5</a>\u001b[0m curve_plot(ax\u001b[39m=\u001b[39maxs[\u001b[39m0\u001b[39;49m,\u001b[39m0\u001b[39;49m], depth\u001b[39m=\u001b[39mdepth, curve\u001b[39m=\u001b[39mcurve, ax_title\u001b[39m=\u001b[39m\u001b[39m'\u001b[39m\u001b[39mGR\u001b[39m\u001b[39m'\u001b[39m, cmap_name\u001b[39m=\u001b[39m\u001b[39m'\u001b[39m\u001b[39mgist_earth\u001b[39m\u001b[39m'\u001b[39m)\n\u001b[1;32m      <a href='vscode-notebook-cell:/mnt/storage3/skylayer3/workspaces/development/anova_well_curve_blocking/example_anova.ipynb#ch0000006?line=5'>6</a>\u001b[0m axs[\u001b[39m0\u001b[39m,\u001b[39m0\u001b[39m]\u001b[39m.\u001b[39mset_ylabel(\u001b[39m'\u001b[39m\u001b[39mDEPTH\u001b[39m\u001b[39m'\u001b[39m)\n\u001b[1;32m      <a href='vscode-notebook-cell:/mnt/storage3/skylayer3/workspaces/development/anova_well_curve_blocking/example_anova.ipynb#ch0000006?line=6'>7</a>\u001b[0m curve_plot(ax\u001b[39m=\u001b[39maxs[\u001b[39m0\u001b[39m,\u001b[39m1\u001b[39m], depth\u001b[39m=\u001b[39mdepth, curve\u001b[39m=\u001b[39mcurve_thick, ax_title\u001b[39m=\u001b[39m\u001b[39mf\u001b[39m\u001b[39m'\u001b[39m\u001b[39mnsamp=\u001b[39m\u001b[39m{\u001b[39;00m\u001b[39m3\u001b[39m\u001b[39m}\u001b[39;00m\u001b[39m'\u001b[39m, cmap_name\u001b[39m=\u001b[39m\u001b[39m'\u001b[39m\u001b[39mgist_earth\u001b[39m\u001b[39m'\u001b[39m)\n",
      "\u001b[0;31mIndexError\u001b[0m: too many indices for array: array is 1-dimensional, but 2 were indexed"
     ]
    },
    {
     "data": {
      "image/png": "[encoded data removed]",
      "text/plain": [
       "<Figure size 432x288 with 2 Axes>"
      ]
     },
     "metadata": {
      "needs_background": "light"
     },
     "output_type": "display_data"
    }
   ],
   "source": [
    "# create plot\n",
    "gs_kw = dict(width_ratios=[1,1], height_ratios=[3,2])\n",
    "fig, axs = plt.subplots(ncols=2, nrows=2, constrained_layout=True, gridspec_kw=gs_kw)  # figsize=(16.5,9.5)\n",
    "fig.suptitle('constant thickness log blocking')\n",
    "curve_plot(ax=axs[0,0], depth=depth, curve=curve, ax_title='GR', cmap_name='gist_earth')\n",
    "axs[0,0].set_ylabel('DEPTH')\n",
    "curve_plot(ax=axs[0,1], depth=depth, curve=curve_thick, ax_title=f'nsamp={3}', cmap_name='gist_earth')\n",
    "\n",
    "# plot depth range\n",
    "z_lower_indx = numpy.argwhere(depth > 2750)\n",
    "idx0 = z_lower_indx[0,0]\n",
    "z_upper_indx = numpy.argwhere(depth < 2950)\n",
    "idx1 = z_upper_indx[-1,0]\n",
    "curve_plot(ax=axs[1,0], depth=depth[idx0:idx1], curve=curve[idx0:idx1], ax_title='GR', cmap_name='gist_earth')\n",
    "axs[1,0].set_ylabel('DEPTH')\n",
    "curve_plot(ax=axs[1,1], depth=depth[idx0:idx1], curve=curve_thick[idx0:idx1], ax_title=f'nsamp={3}', cmap_name='gist_earth')"
   ]
  },
  {
   "cell_type": "markdown",
   "metadata": {},
   "source": [
    "### analysis of variance\n"
   ]
  }
 ],
 "metadata": {
  "kernelspec": {
   "display_name": "Python 3.8.13 ('gsci220329')",
   "language": "python",
   "name": "python3"
  },
  "language_info": {
   "codemirror_mode": {
    "name": "ipython",
    "version": 3
   },
   "file_extension": ".py",
   "mimetype": "text/x-python",
   "name": "python",
   "nbconvert_exporter": "python",
   "pygments_lexer": "ipython3",
   "version": "3.8.13"
  },
  "orig_nbformat": 4,
  "vscode": {
   "interpreter": {
    "hash": "1ecb4710e87ad67e01b9977df7957468e170d92b30d852be53b2ebad75c89db2"
   }
  }
 },
 "nbformat": 4,
 "nbformat_minor": 2
}
