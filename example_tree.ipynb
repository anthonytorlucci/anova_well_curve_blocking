{
 "cells": [
  {
   "cell_type": "markdown",
   "metadata": {},
   "source": [
    "# Example Binary Tree\n",
    "The anova log blocking algorithm uses a binary tree to generate the breakpoints within each zone."
   ]
  },
  {
   "cell_type": "code",
   "execution_count": 1,
   "metadata": {},
   "outputs": [],
   "source": [
    "# standard libs\n",
    "import os\n",
    "\n",
    "# 3rd party\n",
    "import numpy\n",
    "import pandas\n",
    "import matplotlib\n",
    "import matplotlib.pyplot as plt\n",
    "import binarytree\n",
    "\n",
    "# local\n",
    "from anova_log_blocking import anova_zoning, number_of_zones, _anova_recursive_tree_build\n",
    "from log_curve_visualization import curve_plot"
   ]
  },
  {
   "cell_type": "code",
   "execution_count": 2,
   "metadata": {},
   "outputs": [],
   "source": [
    "df = pandas.read_csv('data/490252319500_GammaRay.csv')\n",
    "df = df.set_index('DEPT')\n",
    "#++print(df)\n",
    "\n",
    "# if missing values, use forward fill and backward fill\n",
    "if df.isnull().values.any():\n",
    "    df = df.fillna(method=\"ffill\")\n",
    "    df = df.fillna(method=\"bfill\")\n",
    "\n",
    "depth = df.index.to_numpy()\n",
    "curve = df['GR'].to_numpy()\n",
    "\n",
    "# select a smaller depth range\n",
    "z_lower_indx = numpy.argwhere(depth > 2800)\n",
    "idx0 = z_lower_indx[0,0]\n",
    "z_upper_indx = numpy.argwhere(depth < 2900)\n",
    "idx1 = z_upper_indx[-1,0]\n",
    "\n",
    "depth = depth[idx0:idx1]\n",
    "curve = curve[idx0:idx1]\n",
    "\n",
    "root = _anova_recursive_tree_build(node=binarytree.Node(value=0), a=curve, min_samples_in_zone=6)\n",
    "print(root)"
   ]
  }
 ],
 "metadata": {
  "kernelspec": {
   "display_name": "Python 3.8.13 ('gsci220329')",
   "language": "python",
   "name": "python3"
  },
  "language_info": {
   "codemirror_mode": {
    "name": "ipython",
    "version": 3
   },
   "file_extension": ".py",
   "mimetype": "text/x-python",
   "name": "python",
   "nbconvert_exporter": "python",
   "pygments_lexer": "ipython3",
   "version": "3.8.13"
  },
  "orig_nbformat": 4,
  "vscode": {
   "interpreter": {
    "hash": "1ecb4710e87ad67e01b9977df7957468e170d92b30d852be53b2ebad75c89db2"
   }
  }
 },
 "nbformat": 4,
 "nbformat_minor": 2
}
